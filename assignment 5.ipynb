{
 "cells": [
  {
   "cell_type": "code",
   "execution_count": 6,
   "id": "913a411e-92fe-43ac-b721-b844692858fb",
   "metadata": {},
   "outputs": [
    {
     "name": "stdout",
     "output_type": "stream",
     "text": [
      "b is greater than a\n"
     ]
    }
   ],
   "source": [
    "#Question 1 \n",
    "\n",
    "a = 5\n",
    "b = 10\n",
    "\n",
    "if b > a:\n",
    "    print(\"b is greater than a\")\n",
    "    \n",
    "\n"
   ]
  },
  {
   "cell_type": "code",
   "execution_count": 8,
   "id": "db28e4d8-9937-4bf6-b353-480cf8372648",
   "metadata": {},
   "outputs": [
    {
     "name": "stdout",
     "output_type": "stream",
     "text": [
      "a and b are equal\n"
     ]
    }
   ],
   "source": [
    "#Question 2 \n",
    "a = 5\n",
    "b = 5\n",
    "\n",
    "if b > a:\n",
    "    print(\"b is greater than a\")\n",
    "else:\n",
    "    print(\"a and b are equal\")\n",
    "\n",
    "\n"
   ]
  },
  {
   "cell_type": "code",
   "execution_count": 10,
   "id": "490c5bd7-8417-48dc-94d9-e0e59cac10d7",
   "metadata": {},
   "outputs": [
    {
     "name": "stdout",
     "output_type": "stream",
     "text": [
      "a is greater than b\n"
     ]
    }
   ],
   "source": [
    "#Question 3 \n",
    "a = 10\n",
    "b = 5\n",
    "\n",
    "if b > a:\n",
    "    print(\"b is greater than a\")\n",
    "elif a == b:\n",
    "    print(\"a and b are equal\")\n",
    "else:\n",
    "    print(\"a is greater than b\")\n"
   ]
  },
  {
   "cell_type": "code",
   "execution_count": 12,
   "id": "6d4099c3-0939-4723-809b-c381544709ea",
   "metadata": {},
   "outputs": [
    {
     "name": "stdout",
     "output_type": "stream",
     "text": [
      "banana\n"
     ]
    }
   ],
   "source": [
    "#Question 4 \n",
    "fruits = (\"apple\", \"banana\", \"cherry\")\n",
    "print(fruits[1]) \n"
   ]
  },
  {
   "cell_type": "code",
   "execution_count": 14,
   "id": "91d83e1c-f428-4336-bb6d-174be8c70a85",
   "metadata": {},
   "outputs": [
    {
     "name": "stdout",
     "output_type": "stream",
     "text": [
      "<class 'tuple'>\n"
     ]
    }
   ],
   "source": [
    "#Question 5 \n",
    "single_item_tuple = (\"apple\",)\n",
    "print(type(single_item_tuple))  \n"
   ]
  },
  {
   "cell_type": "code",
   "execution_count": 16,
   "id": "4aeef5eb-15ea-49d0-80d2-7650598dda42",
   "metadata": {},
   "outputs": [
    {
     "name": "stdout",
     "output_type": "stream",
     "text": [
      "True\n"
     ]
    }
   ],
   "source": [
    "#Question 6 \n",
    "fruits = (\"apple\", \"banana\", \"cherry\")\n",
    "print(\"apple\" in fruits) "
   ]
  },
  {
   "cell_type": "code",
   "execution_count": 18,
   "id": "6b09f22b-00eb-4325-8bb9-4392a7459f95",
   "metadata": {},
   "outputs": [
    {
     "name": "stdout",
     "output_type": "stream",
     "text": [
      "('apple', 'kiwi', 'cherry')\n"
     ]
    }
   ],
   "source": [
    "#Question 7 \n",
    "fruits = (\"apple\", \"banana\", \"cherry\")\n",
    "fruits_list = list(fruits)\n",
    "fruits_list[1] = \"kiwi\"\n",
    "modified_fruits = tuple(fruits_list)\n",
    "print(modified_fruits) \n"
   ]
  },
  {
   "cell_type": "code",
   "execution_count": 20,
   "id": "d940df12-3cb0-45cd-a0c1-124ce937e7de",
   "metadata": {},
   "outputs": [
    {
     "name": "stdout",
     "output_type": "stream",
     "text": [
      "{'orange', 'cherry', 'apple'}\n"
     ]
    }
   ],
   "source": [
    "#Question 8 \n",
    "fruits_set = {\"apple\", \"banana\", \"cherry\"}\n",
    "fruits_set.add(\"orange\")\n",
    "fruits_set.remove(\"banana\")\n",
    "print(fruits_set)  "
   ]
  },
  {
   "cell_type": "code",
   "execution_count": 22,
   "id": "b2e626c1-fe95-498b-bf9b-8ac13652c076",
   "metadata": {},
   "outputs": [
    {
     "name": "stdout",
     "output_type": "stream",
     "text": [
      "apple\n",
      "banana\n",
      "cherry\n"
     ]
    }
   ],
   "source": [
    "#Question 9 \n",
    "fruits = (\"apple\", \"banana\", \"cherry\")\n",
    "for fruit in fruits:\n",
    "    print(fruit)"
   ]
  },
  {
   "cell_type": "code",
   "execution_count": 24,
   "id": "7437d304-f0d2-49ef-9633-1139811e9984",
   "metadata": {},
   "outputs": [
    {
     "name": "stdout",
     "output_type": "stream",
     "text": [
      "{'cherry', 'orange', 'kiwi', 'pineapple', 'banana', 'mango', 'papaya', 'apple'}\n"
     ]
    }
   ],
   "source": [
    "#Question 10 \n",
    "fruits_set = {\"apple\", \"banana\", \"cherry\"}\n",
    "new_fruits_set = {\"pineapple\", \"mango\", \"papaya\"}\n",
    "new_fruits_list = [\"kiwi\", \"orange\"]\n",
    "\n",
    "fruits_set.update(new_fruits_set)\n",
    "fruits_set.update(new_fruits_list)\n",
    "print(fruits_set)  "
   ]
  }
 ],
 "metadata": {
  "kernelspec": {
   "display_name": "Python 3 (ipykernel)",
   "language": "python",
   "name": "python3"
  },
  "language_info": {
   "codemirror_mode": {
    "name": "ipython",
    "version": 3
   },
   "file_extension": ".py",
   "mimetype": "text/x-python",
   "name": "python",
   "nbconvert_exporter": "python",
   "pygments_lexer": "ipython3",
   "version": "3.12.4"
  }
 },
 "nbformat": 4,
 "nbformat_minor": 5
}
